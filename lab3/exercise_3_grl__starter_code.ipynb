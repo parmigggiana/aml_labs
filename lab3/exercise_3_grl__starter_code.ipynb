{
 "cells": [
  {
   "cell_type": "markdown",
   "metadata": {
    "id": "C_Zm_LPoFdE5"
   },
   "source": [
    "**DOWNLOAD THE PACS DATASET & SETUP THE ENVIRONMENT**"
   ]
  },
  {
   "cell_type": "code",
   "execution_count": null,
   "metadata": {
    "colab": {
     "base_uri": "https://localhost:8080/"
    },
    "id": "o19xJiPGC_1t",
    "outputId": "69237869-5cb9-417c-8660-57a69b35ffcd"
   },
   "outputs": [
    {
     "name": "stdout",
     "output_type": "stream",
     "text": [
      "Cloning into 'Homework3-PACS'...\n",
      "remote: Enumerating objects: 10032, done.\u001b[K\n",
      "remote: Total 10032 (delta 0), reused 0 (delta 0), pack-reused 10032 (from 1)\u001b[K\n",
      "Receiving objects: 100% (10032/10032), 174.13 MiB | 13.98 MiB/s, done.\n",
      "Resolving deltas: 100% (1/1), done.\n",
      "Updating files: 100% (9993/9993), done.\n",
      "Cloning into 'DANN_Template'...\n",
      "remote: Enumerating objects: 23, done.\u001b[K\n",
      "remote: Total 23 (delta 0), reused 0 (delta 0), pack-reused 23 (from 1)\u001b[K\n",
      "Receiving objects: 100% (23/23), 33.86 KiB | 550.00 KiB/s, done.\n",
      "Resolving deltas: 100% (5/5), done.\n",
      "Collecting torchmetrics\n",
      "  Downloading torchmetrics-1.6.0-py3-none-any.whl.metadata (20 kB)\n",
      "Requirement already satisfied: numpy>1.20.0 in /usr/local/lib/python3.10/dist-packages (from torchmetrics) (1.26.4)\n",
      "Requirement already satisfied: packaging>17.1 in /usr/local/lib/python3.10/dist-packages (from torchmetrics) (24.2)\n",
      "Requirement already satisfied: torch>=2.0.0 in /usr/local/lib/python3.10/dist-packages (from torchmetrics) (2.5.1+cu121)\n",
      "Collecting lightning-utilities>=0.8.0 (from torchmetrics)\n",
      "  Downloading lightning_utilities-0.11.9-py3-none-any.whl.metadata (5.2 kB)\n",
      "Requirement already satisfied: setuptools in /usr/local/lib/python3.10/dist-packages (from lightning-utilities>=0.8.0->torchmetrics) (75.1.0)\n",
      "Requirement already satisfied: typing-extensions in /usr/local/lib/python3.10/dist-packages (from lightning-utilities>=0.8.0->torchmetrics) (4.12.2)\n",
      "Requirement already satisfied: filelock in /usr/local/lib/python3.10/dist-packages (from torch>=2.0.0->torchmetrics) (3.16.1)\n",
      "Requirement already satisfied: networkx in /usr/local/lib/python3.10/dist-packages (from torch>=2.0.0->torchmetrics) (3.4.2)\n",
      "Requirement already satisfied: jinja2 in /usr/local/lib/python3.10/dist-packages (from torch>=2.0.0->torchmetrics) (3.1.4)\n",
      "Requirement already satisfied: fsspec in /usr/local/lib/python3.10/dist-packages (from torch>=2.0.0->torchmetrics) (2024.10.0)\n",
      "Requirement already satisfied: sympy==1.13.1 in /usr/local/lib/python3.10/dist-packages (from torch>=2.0.0->torchmetrics) (1.13.1)\n",
      "Requirement already satisfied: mpmath<1.4,>=1.1.0 in /usr/local/lib/python3.10/dist-packages (from sympy==1.13.1->torch>=2.0.0->torchmetrics) (1.3.0)\n",
      "Requirement already satisfied: MarkupSafe>=2.0 in /usr/local/lib/python3.10/dist-packages (from jinja2->torch>=2.0.0->torchmetrics) (3.0.2)\n",
      "Downloading torchmetrics-1.6.0-py3-none-any.whl (926 kB)\n",
      "\u001b[2K   \u001b[90m━━━━━━━━━━━━━━━━━━━━━━━━━━━━━━━━━━━━━━━━\u001b[0m \u001b[32m926.4/926.4 kB\u001b[0m \u001b[31m20.2 MB/s\u001b[0m eta \u001b[36m0:00:00\u001b[0m\n",
      "\u001b[?25hDownloading lightning_utilities-0.11.9-py3-none-any.whl (28 kB)\n",
      "Installing collected packages: lightning-utilities, torchmetrics\n",
      "Successfully installed lightning-utilities-0.11.9 torchmetrics-1.6.0\n"
     ]
    }
   ],
   "source": [
    "# Download PACS Dataset Images\n",
    "!git clone https://github.com/MachineLearning2020/Homework3-PACS/\n",
    "!mv Homework3-PACS/PACS/ .\n",
    "!rm -r Homework3-PACS/\n",
    "\n",
    "# Download PACS Dataset Labels\n",
    "!git clone https://github.com/silvia1993/DANN_Template/\n",
    "!mv DANN_Template/txt_lists/art_painting.txt PACS/\n",
    "!mv DANN_Template/txt_lists/cartoon.txt PACS/\n",
    "!mv DANN_Template/txt_lists/photo.txt PACS/\n",
    "!mv DANN_Template/txt_lists/sketch.txt PACS/\n",
    "!rm -r DANN_Template/\n",
    "\n",
    "# Install additional libraries\n",
    "# %pip install torchmetrics"
   ]
  },
  {
   "cell_type": "markdown",
   "metadata": {
    "id": "6BHbLv49Hm8u"
   },
   "source": [
    "**GLOBAL VARIABLES**"
   ]
  },
  {
   "cell_type": "code",
   "execution_count": null,
   "metadata": {
    "id": "5cnkqXhaHMGt"
   },
   "outputs": [],
   "source": [
    "import torch\n",
    "\n",
    "DEVICE = 'cuda' if torch.cuda.is_available() else 'cpu'\n",
    "NUM_CLASSES = 7\n",
    "BATCH_SIZE = 256\n",
    "LR = 1e-3            # The initial Learning Rate\n",
    "MOMENTUM = 0.9       # Hyperparameter for SGD, keep this at 0.9 when using SGD\n",
    "WEIGHT_DECAY = 5e-5  # Regularization, you can keep this at the default\n",
    "NUM_EPOCHS = 30      # Total number of training epochs (iterations over dataset)\n",
    "STEP_SIZE = 20       # How many epochs before decreasing learning rate (if using a step-down policy)\n",
    "GAMMA = 0.1          # Multiplicative factor for learning rate step-down\n",
    "\n",
    "LOG_FREQUENCY = 10"
   ]
  },
  {
   "cell_type": "markdown",
   "metadata": {
    "id": "mrg-Ss56IZX9"
   },
   "source": [
    "**DATASET MANAGEMENT**"
   ]
  },
  {
   "cell_type": "code",
   "execution_count": null,
   "metadata": {
    "colab": {
     "base_uri": "https://localhost:8080/",
     "height": 106
    },
    "id": "mNB5VstJIcYf",
    "outputId": "2a616863-d6f5-4d86-eb25-4740153a2fc2"
   },
   "outputs": [
    {
     "ename": "IndentationError",
     "evalue": "expected an indented block after function definition on line 5 (<ipython-input-3-681fac41cdc7>, line 8)",
     "output_type": "error",
     "traceback": [
      "\u001b[0;36m  File \u001b[0;32m\"<ipython-input-3-681fac41cdc7>\"\u001b[0;36m, line \u001b[0;32m8\u001b[0m\n\u001b[0;31m    def __len__(self):\u001b[0m\n\u001b[0m    ^\u001b[0m\n\u001b[0;31mIndentationError\u001b[0m\u001b[0;31m:\u001b[0m expected an indented block after function definition on line 5\n"
     ]
    }
   ],
   "source": [
    "from torch.utils.data import Dataset\n",
    "\n",
    "# Define the Dataset class\n",
    "class PACSDataset(Dataset):\n",
    "    def __init__(self):\n",
    "        #...\n",
    "\n",
    "    def __len__(self):\n",
    "        #...\n",
    "\n",
    "    def __getitem__(self, index):\n",
    "        #..."
   ]
  },
  {
   "cell_type": "markdown",
   "metadata": {
    "id": "AWeVJrW2NiFM"
   },
   "source": [
    "**ARCHITECTURE SETUP**"
   ]
  },
  {
   "cell_type": "code",
   "execution_count": null,
   "metadata": {
    "id": "GB1UGpoSJL4w"
   },
   "outputs": [],
   "source": [
    "import torch.nn as nn\n",
    "\n",
    "# Define AlexNet architecture class\n",
    "class AlexNet(nn.Module):\n",
    "    def __init__(self, num_classes=1000):\n",
    "        super(AlexNet, self).__init__()\n",
    "        self.features = nn.Sequential(\n",
    "            nn.Conv2d(3, 64, kernel_size=11, stride=4, padding=2),\n",
    "            nn.ReLU(inplace=True),\n",
    "            nn.MaxPool2d(kernel_size=3, stride=2),\n",
    "            nn.Conv2d(64, 192, kernel_size=5, padding=2),\n",
    "            nn.ReLU(inplace=True),\n",
    "            nn.MaxPool2d(kernel_size=3, stride=2),\n",
    "            nn.Conv2d(192, 384, kernel_size=3, padding=1),\n",
    "            nn.ReLU(inplace=True),\n",
    "            nn.Conv2d(384, 256, kernel_size=3, padding=1),\n",
    "            nn.ReLU(inplace=True),\n",
    "            nn.Conv2d(256, 256, kernel_size=3, padding=1),\n",
    "            nn.ReLU(inplace=True),\n",
    "            nn.MaxPool2d(kernel_size=3, stride=2)\n",
    "        )\n",
    "        # Category classifier\n",
    "        self.classifier = nn.Sequential(\n",
    "            nn.Dropout(),\n",
    "            nn.Linear(256 * 6 * 6, 4096),\n",
    "            nn.ReLU(inplace=True),\n",
    "            nn.Dropout(),\n",
    "            nn.Linear(4096, 4096),\n",
    "            nn.ReLU(inplace=True),\n",
    "            nn.Linear(4096, num_classes)\n",
    "        )\n",
    "        # Domain classifier\n",
    "        #...\n",
    "\n",
    "    def forward(self, x):\n",
    "        features = self.features(x)\n",
    "        features = features.view(features.size(0), -1)\n",
    "        class_outputs = self.classifier(features)\n",
    "        #...\n",
    "        return class_outputs"
   ]
  },
  {
   "cell_type": "markdown",
   "metadata": {
    "id": "BFs2aJrQUjTd"
   },
   "source": [
    "**OPTIMIZATION LOOP**"
   ]
  },
  {
   "cell_type": "code",
   "execution_count": null,
   "metadata": {
    "id": "qpS7tvk7OaPF"
   },
   "outputs": [],
   "source": [
    "from torch.utils.data import DataLoader\n",
    "import torchvision.transforms as T\n",
    "from torchvision.models import AlexNet_Weights\n",
    "import torch.nn.functional as F\n",
    "from torchmetrics import Accuracy\n",
    "\n",
    "#### DATA SETUP\n",
    "# Define the transforms to use on images\n",
    "dataset_transform = T.Compose([\n",
    "    T.Resize(256),\n",
    "    T.CenterCrop(224),\n",
    "    T.ToTensor(),\n",
    "    T.Normalize([0.485, 0.456, 0.406], std=[0.229, 0.224, 0.225])\n",
    "])\n",
    "\n",
    "# Define the Dataset object for training & testing\n",
    "train_dataset = #...\n",
    "test_dataset = #...\n",
    "\n",
    "# Define the DataLoaders\n",
    "train_loader = #...\n",
    "test_loader = #...\n",
    "\n",
    "\n",
    "#### ARCHITECTURE SETUP\n",
    "# Create the Network Architecture object\n",
    "model = AlexNet()\n",
    "# Load pre-trained weights\n",
    "model.load_state_dict(#...\n",
    "# Overwrite the final classifier layer as we only have 7 classes in PACS\n",
    "model.classifier[-1] = #...\n",
    "\n",
    "\n",
    "#### TRAINING SETUP\n",
    "# Move model to device before passing it to the optimizer\n",
    "model = model.to(DEVICE)\n",
    "\n",
    "# Create Optimizer & Scheduler objects\n",
    "optimizer = torch.optim.SGD(#...\n",
    "scheduler = torch.optim.lr_scheduler.StepLR(#...\n",
    "\n",
    "\n",
    "#### TRAINING LOOP\n",
    "#... for epoch in range(NUM_EPOCHS)...\n",
    "\n",
    "#### TEST LOOP\n",
    "#...\n",
    "\n",
    "print(f'\\nAccuracy on the target domain: {100 * accuracy:.2f}%')\n"
   ]
  },
  {
   "cell_type": "code",
   "execution_count": null,
   "metadata": {
    "id": "Zx6Oe754VzUf"
   },
   "outputs": [],
   "source": []
  }
 ],
 "metadata": {
  "accelerator": "GPU",
  "colab": {
   "gpuType": "T4",
   "provenance": []
  },
  "kernelspec": {
   "display_name": "Python 3",
   "name": "python3"
  },
  "language_info": {
   "name": "python"
  }
 },
 "nbformat": 4,
 "nbformat_minor": 0
}

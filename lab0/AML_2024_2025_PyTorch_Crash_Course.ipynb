{
 "cells": [
  {
   "cell_type": "markdown",
   "metadata": {
    "id": "4jqNS-Di30kG"
   },
   "source": [
    "# Advanced Machine Learning 2024/2025 - PyTorch Crash Course\n",
    "\n",
    "**Teaching Assistant**: Simone Alberto Peirone\n",
    "\n",
    "Inspired by: https://pytorch.org/tutorials/beginner/blitz/cifar10_tutorial.html\n",
    "\n",
    "The goal of this notebook is to train a very basic neural network on the CIFAR 10 dataset.\n",
    "\n",
    "Then, you can modify the dataset and the training loop to extend the code to a new dataset: Flowers."
   ]
  },
  {
   "cell_type": "code",
   "execution_count": null,
   "metadata": {
    "id": "o6IK94yf3wzI"
   },
   "outputs": [],
   "source": [
    "import torch\n",
    "import torchvision\n",
    "import torchvision.transforms as transforms\n",
    "\n",
    "import matplotlib.pyplot as plt\n",
    "import numpy as np\n",
    "\n",
    "import tqdm.auto as tqdm"
   ]
  },
  {
   "cell_type": "markdown",
   "metadata": {
    "id": "jjytR__J66-5"
   },
   "source": [
    "## Training a network on CIFAR10"
   ]
  },
  {
   "cell_type": "markdown",
   "metadata": {
    "id": "vxGeSS4B7nAZ"
   },
   "source": [
    "### Dataset preparation"
   ]
  },
  {
   "cell_type": "code",
   "execution_count": null,
   "metadata": {
    "colab": {
     "base_uri": "https://localhost:8080/"
    },
    "id": "I6B3KIfD4g3r",
    "outputId": "65ee5808-ab4d-4257-f14f-82aea54632aa"
   },
   "outputs": [],
   "source": [
    "# Transformations to be applied to the output of the dataset\n",
    "transform = transforms.Compose([transforms.ToTensor(), transforms.Normalize((0.5, 0.5, 0.5), (0.5, 0.5, 0.5))])\n",
    "\n",
    "batch_size = 4\n",
    "\n",
    "# Training dataset and dataloader\n",
    "trainset = torchvision.datasets.CIFAR10(root='./data', train=True, download=True, transform=transform)\n",
    "trainloader = torch.utils.data.DataLoader(trainset, batch_size=batch_size, shuffle=True, drop_last=True, num_workers=2)\n",
    "\n",
    "# Test dataset and dataloader\n",
    "testset = torchvision.datasets.CIFAR10(root='./data', train=False, download=True, transform=transform)\n",
    "testloader = torch.utils.data.DataLoader(testset, batch_size=batch_size, shuffle=False, num_workers=2)\n",
    "\n",
    "classes = ('plane', 'car', 'bird', 'cat', 'deer', 'dog', 'frog', 'horse', 'ship', 'truck')"
   ]
  },
  {
   "cell_type": "code",
   "execution_count": null,
   "metadata": {
    "colab": {
     "base_uri": "https://localhost:8080/",
     "height": 231
    },
    "id": "TfdT0sS07OP9",
    "outputId": "1af779ae-cce6-456d-97de-8cf80bd9b0c3"
   },
   "outputs": [],
   "source": [
    "def imshow(img):\n",
    "    img = img / 2 + 0.5     # unnormalize\n",
    "    npimg = img.numpy()\n",
    "    plt.imshow(np.transpose(npimg, (1, 2, 0)))\n",
    "    plt.show()\n",
    "\n",
    "dataiter = iter(trainloader)\n",
    "\n",
    "# TODO: what's the content of images and labels?\n",
    "# How are multiple images batched together\n",
    "images, labels = next(dataiter)\n",
    "\n",
    "# show images\n",
    "imshow(torchvision.utils.make_grid(images))\n",
    "\n",
    "# print labels\n",
    "print('Labels: ' + ', '.join(f'{classes[labels[j]].strip()}' for j in range(batch_size)))"
   ]
  },
  {
   "cell_type": "markdown",
   "metadata": {
    "id": "Bkze8yai8DsP"
   },
   "source": [
    "## Network definition\n",
    "\n",
    "Let's define a very basic neural network that takes an image as input and outputs one out of 10 labels."
   ]
  },
  {
   "cell_type": "code",
   "execution_count": null,
   "metadata": {
    "colab": {
     "base_uri": "https://localhost:8080/"
    },
    "id": "y1hI7rlS7qBq",
    "outputId": "4dfbf17e-4e61-4f40-f715-0eb1c2f58f1f"
   },
   "outputs": [],
   "source": [
    "import torch.nn as nn\n",
    "import torch.nn.functional as F\n",
    "\n",
    "\n",
    "class Net(nn.Module):\n",
    "    def __init__(self, n_classes: int = 10):\n",
    "        super().__init__()\n",
    "        self.conv1 = nn.Conv2d(3, 6, 5)\n",
    "        self.pool = nn.MaxPool2d(2, 2)\n",
    "        self.conv2 = nn.Conv2d(6, 16, 5)\n",
    "        self.fc1 = nn.Linear(16 * 5 * 5, 120)\n",
    "        self.fc2 = nn.Linear(120, 84)\n",
    "        self.fc3 = nn.Linear(84, n_classes)\n",
    "\n",
    "    def forward(self, x):\n",
    "        x = self.pool(F.relu(self.conv1(x)))\n",
    "        x = self.pool(F.relu(self.conv2(x)))\n",
    "        x = torch.flatten(x, 1) # flatten all dimensions except batch\n",
    "        x = F.relu(self.fc1(x))\n",
    "        x = F.relu(self.fc2(x))\n",
    "        x = self.fc3(x)\n",
    "        return x\n",
    "\n",
    "\n",
    "net = Net(n_classes=10)#.cuda()\n",
    "\n",
    "print(net)"
   ]
  },
  {
   "cell_type": "markdown",
   "metadata": {
    "id": "laMgs6i88gHi"
   },
   "source": [
    "## Optimizers"
   ]
  },
  {
   "cell_type": "code",
   "execution_count": null,
   "metadata": {
    "id": "WeF3JrPh8GdO"
   },
   "outputs": [],
   "source": [
    "import torch.optim as optim\n",
    "\n",
    "optimizer = optim.SGD(net.parameters(), lr=0.001, momentum=0.9)"
   ]
  },
  {
   "cell_type": "markdown",
   "metadata": {
    "id": "gn7avzSU9FFg"
   },
   "source": [
    "## Training loop"
   ]
  },
  {
   "cell_type": "code",
   "execution_count": null,
   "metadata": {
    "colab": {
     "base_uri": "https://localhost:8080/"
    },
    "id": "N9o6OMds8Iyf",
    "outputId": "2c1d096a-9274-44cc-ebf9-04319be9fffd"
   },
   "outputs": [],
   "source": [
    "for epoch in range(2):  # Loop over the dataset twice\n",
    "\n",
    "    for i, (inputs, labels) in enumerate(trainloader):\n",
    "\n",
    "        # inputs, labels = inputs, labels\n",
    "\n",
    "        # inputs, labels = inputs.cuda(), labels.cuda()\n",
    "\n",
    "        # zero the parameter gradients\n",
    "        optimizer.zero_grad()\n",
    "\n",
    "        # Forward the input through the network\n",
    "        logits = net(inputs)\n",
    "\n",
    "        # Compute the loss value for the input\n",
    "        loss = F.cross_entropy(logits, labels)\n",
    "\n",
    "        # Compute gradients of the loss with respect to the model parameters\n",
    "        loss.backward()\n",
    "\n",
    "        # Apply gradient updates\n",
    "        optimizer.step()\n",
    "\n",
    "        if i % 1000 == 0:    # print every 2000 mini-batches\n",
    "            print(f'Training loss: {loss.item():.3f}')\n"
   ]
  },
  {
   "cell_type": "markdown",
   "metadata": {
    "id": "ND31W_-DBBCb"
   },
   "source": [
    "### BONUS: what happens after you call loss.backward()?\n",
    "\n",
    "Try to inspect the `.grad` property of the network's parameters."
   ]
  },
  {
   "cell_type": "code",
   "execution_count": null,
   "metadata": {
    "id": "lWbNISdqBVse"
   },
   "outputs": [],
   "source": [
    "inputs, labels = next(iter(trainloader))\n",
    "# inputs, labels = inputs.cuda(), labels.cuda()\n",
    "\n",
    "# zero the parameter gradients\n",
    "optimizer.zero_grad()\n",
    "\n",
    "# Forward the input through the network\n",
    "logits = net(inputs)\n",
    "\n",
    "# Compute the loss value for the input\n",
    "loss = F.cross_entropy(logits, labels)\n",
    "\n",
    "# Compute the gradients\n",
    "loss.backward()\n",
    "\n",
    "net.parameters()"
   ]
  },
  {
   "cell_type": "markdown",
   "metadata": {
    "id": "-a88kLxT_oTu"
   },
   "source": [
    "## Validate the network on the test data"
   ]
  },
  {
   "cell_type": "code",
   "execution_count": null,
   "metadata": {
    "colab": {
     "base_uri": "https://localhost:8080/"
    },
    "id": "zd84DoWV_aZe",
    "outputId": "8a5e4703-e469-4133-8b32-9d3b426db4cf"
   },
   "outputs": [],
   "source": [
    "correct = 0\n",
    "total = 0\n",
    "\n",
    "with torch.no_grad():\n",
    "\n",
    "    for inputs, labels in testloader:\n",
    "        # inputs, labels = inputs.cuda(), labels.cuda()\n",
    "\n",
    "        # Compute the network logits for the input batch\n",
    "        outputs = net(inputs) # B x num_classes\n",
    "\n",
    "        # For each input sample in the batch, we predict the class corresponding to the larget logit\n",
    "        predicted_labels = outputs.max(1).indices\n",
    "\n",
    "        total += labels.size(0)\n",
    "        correct += (predicted_labels == labels).sum().item()\n",
    "\n",
    "print(f'Accuracy of the network on the 10000 test images: {100 * correct / total:.2f} %')"
   ]
  },
  {
   "cell_type": "markdown",
   "metadata": {
    "id": "3T9tDFmlDen0"
   },
   "source": [
    "## Extension to a new dataset\n",
    "\n",
    "**It's your turn!**.\n",
    "\n",
    "Download the Flowers dataset from http://www.robots.ox.ac.uk/~vgg/data/flowers/102/102flowers.tgz"
   ]
  },
  {
   "cell_type": "code",
   "execution_count": null,
   "metadata": {
    "id": "14BQOAGsDebF"
   },
   "outputs": [],
   "source": [
    "!wget http://www.robots.ox.ac.uk/~vgg/data/flowers/102/102flowers.tgz\n",
    "!wget http://www.robots.ox.ac.uk/~vgg/data/flowers/102/imagelabels.mat\n",
    "!wget http://www.robots.ox.ac.uk/~vgg/data/flowers/102/setid.mat\n",
    "!tar -xf 102flowers.tgz && rm 102flowers.tgz"
   ]
  },
  {
   "cell_type": "code",
   "execution_count": null,
   "metadata": {
    "id": "pf6H1aTRGuX1"
   },
   "outputs": [],
   "source": [
    "import os.path as osp\n",
    "from torch.utils.data import Dataset\n",
    "\n",
    "from typing import Literal\n",
    "\n",
    "from torchvision.io import read_image\n",
    "\n",
    "from PIL import Image\n",
    "\n",
    "import scipy.io\n",
    "\n",
    "\n",
    "class FlowersDataset(Dataset):\n",
    "    def __init__(self, split: Literal['trn', 'val', 'tst'],\n",
    "                 labels_file: str, splits_path: str, img_dir: str, transform=None):\n",
    "        self.split = split\n",
    "        self.ids = np.array(scipy.io.loadmat('setid.mat')[f'{split}id']).squeeze()\n",
    "\n",
    "        # Load the labels\n",
    "        labels = np.array(scipy.io.loadmat('imagelabels.mat')['labels'].squeeze())\n",
    "        self.labels = np.take(labels, self.ids, 0)\n",
    "\n",
    "        self.img_dir = img_dir\n",
    "\n",
    "        self.transform = transform\n",
    "\n",
    "    def __len__(self):\n",
    "        return len(self.ids)\n",
    "\n",
    "    def __getitem__(self, idx):\n",
    "        img_path = osp.join(self.img_dir, f'image_{self.ids[idx]:05d}.jpg')\n",
    "        image = Image.open(img_path)\n",
    "        label = self.labels[idx]\n",
    "\n",
    "        return image, label"
   ]
  },
  {
   "cell_type": "code",
   "execution_count": null,
   "metadata": {
    "id": "tGqlaKFbJa2k"
   },
   "outputs": [],
   "source": [
    "transform = transforms.Compose([\n",
    "    transforms.ToTensor(),\n",
    "    transforms.Normalize((0.5, 0.5, 0.5), (0.5, 0.5, 0.5)),\n",
    "    transforms.Resize(64),\n",
    "    transforms.CenterCrop(64)\n",
    "])\n",
    "\n",
    "trainset = FlowersDataset(\"trn\", \"imagelabels.mat\", \"setid.mat\", \"jpg\", transform=transform)\n",
    "valset = FlowersDataset(\"val\", \"imagelabels.mat\", \"setid.mat\", \"jpg\", transform=transform)\n",
    "\n",
    "trainloader = torch.utils.data.DataLoader(trainset, batch_size=batch_size, shuffle=True, num_workers=2)\n",
    "valloader = torch.utils.data.DataLoader(valset, batch_size=batch_size, shuffle=True, num_workers=2)"
   ]
  },
  {
   "cell_type": "code",
   "execution_count": null,
   "metadata": {
    "id": "Eehiuo9fP4NM"
   },
   "outputs": [],
   "source": [
    "class Net(nn.Module):\n",
    "    def __init__(self, n_classes: int = 10):\n",
    "        super().__init__()\n",
    "        self.conv1 = nn.Conv2d(3, 16, 5)\n",
    "        self.pool = nn.MaxPool2d(2, 2)\n",
    "        self.conv2 = nn.Conv2d(16, 128, 5)\n",
    "        self.avgpool = nn.AdaptiveAvgPool2d(2)\n",
    "        self.fc1 = nn.Linear(512, 512)\n",
    "        self.fc2 = nn.Linear(512, 128)\n",
    "        self.fc3 = nn.Linear(128, n_classes)\n",
    "\n",
    "    def forward(self, x):\n",
    "        x = self.pool(F.relu(self.conv1(x)))\n",
    "        x = F.relu(self.conv2(x))\n",
    "        x = self.avgpool(x)\n",
    "        x = torch.flatten(x, 1) # flatten all dimensions except batch\n",
    "        x = F.relu(self.fc1(x))\n",
    "        x = F.relu(self.fc2(x))\n",
    "        return self.fc3(x)\n",
    "\n",
    "\n",
    "net = Net(n_classes=103)#.cuda()\n",
    "\n",
    "optimizer = optim.Adam(net.parameters(), lr=0.001)"
   ]
  },
  {
   "cell_type": "code",
   "execution_count": null,
   "metadata": {
    "id": "Y_jlxq2KKyKD"
   },
   "outputs": [],
   "source": [
    "for epoch in range(10):  # Loop over the dataset twice\n",
    "\n",
    "    for i, (inputs, labels) in enumerate(trainloader):\n",
    "\n",
    "        # inputs, labels = inputs.cuda(), labels.cuda()\n",
    "\n",
    "        # zero the parameter gradients\n",
    "        optimizer.zero_grad()\n",
    "\n",
    "        # Forward the input through the network\n",
    "        logits = net(inputs)\n",
    "\n",
    "        # Compute the loss value for the input\n",
    "        loss = F.cross_entropy(logits, labels)\n",
    "\n",
    "        # Compute gradients of the loss with respect to the model parameters\n",
    "        loss.backward()\n",
    "\n",
    "        # Apply gradient updates\n",
    "        optimizer.step()\n",
    "\n",
    "        if i % 1000 == 0:    # print every 2000 mini-batches\n",
    "            print(f'Training loss: {loss.item():.3f}')\n"
   ]
  },
  {
   "cell_type": "code",
   "execution_count": null,
   "metadata": {
    "id": "rVJ5MtBsK4N_"
   },
   "outputs": [],
   "source": [
    "correct = 0\n",
    "total = 0\n",
    "\n",
    "with torch.no_grad():\n",
    "\n",
    "    for inputs, labels in valloader:\n",
    "        # inputs, labels = inputs.cuda(), labels.cuda()\n",
    "\n",
    "        # Compute the network logits for the input batch\n",
    "        outputs = net(inputs)\n",
    "\n",
    "        # For each input sample in the batch, we predict the class corresponding to the larget logit\n",
    "        predicted_labels = outputs.max(1).indices\n",
    "\n",
    "        total += labels.size(0)\n",
    "        correct += (predicted_labels == labels).sum().item()\n",
    "\n",
    "print(f'Accuracy of the network on the test images: {100 * correct / total:.2f} %')"
   ]
  }
 ],
 "metadata": {
  "accelerator": "GPU",
  "colab": {
   "gpuType": "T4",
   "provenance": []
  },
  "kernelspec": {
   "display_name": "Python 3",
   "name": "python3"
  },
  "language_info": {
   "codemirror_mode": {
    "name": "ipython",
    "version": 3
   },
   "file_extension": ".py",
   "mimetype": "text/x-python",
   "name": "python",
   "nbconvert_exporter": "python",
   "pygments_lexer": "ipython3",
   "version": "3.11.10"
  }
 },
 "nbformat": 4,
 "nbformat_minor": 0
}
